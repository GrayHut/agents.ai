{
 "cells": [
  {
   "cell_type": "code",
   "execution_count": 2,
   "id": "0f6f313c",
   "metadata": {},
   "outputs": [],
   "source": [
    "import os\n",
    "from mistralai import Mistral\n",
    "from dotenv import load_dotenv"
   ]
  },
  {
   "cell_type": "code",
   "execution_count": 3,
   "id": "8769dfe3",
   "metadata": {},
   "outputs": [],
   "source": [
    "load_dotenv()\n",
    "\n",
    "api_key=os.getenv(\"MY_KEY\")\n",
    "client=Mistral(api_key)\n",
    "\n",
    "simple_agent=client.beta.agents.create(\n",
    "    model=\"mistral-medium-2505\",\n",
    "    description=\"A simple agent with persistent state.\",\n",
    "    name=\"Agent X\"\n",
    ")"
   ]
  },
  {
   "cell_type": "code",
   "execution_count": 9,
   "id": "d6f785a5",
   "metadata": {},
   "outputs": [
    {
     "name": "stdout",
     "output_type": "stream",
     "text": [
      "conversation_id='conv_019803de41a077379b3651de667b026b' outputs=[MessageOutputEntry(content='The greatest city in the world is subjective and depends on what you value most! Some people might say New York for its energy and diversity, others might prefer Paris for its culture and history, or Tokyo for its innovation and unique blend of tradition and modernity. What are you looking for in a city? I can help you find the best match based on your preferences!', object='entry', type='message.output', created_at=datetime.datetime(2025, 7, 13, 12, 59, 14, 333960, tzinfo=TzInfo(UTC)), completed_at=datetime.datetime(2025, 7, 13, 12, 59, 15, 364861, tzinfo=TzInfo(UTC)), id='msg_019803de421d7605a437ea250de1bd42', agent_id='ag_019803d881d67483b82d15eca979bab0', model='mistral-medium-2505', role='assistant')] usage=ConversationUsageInfo(prompt_tokens=12, completion_tokens=74, total_tokens=86, connector_tokens=Unset(), connectors=Unset()) object='conversation.response'\n"
     ]
    }
   ],
   "source": [
    "response=client.beta.conversations.start(\n",
    "    agent_id=simple_agent.id,\n",
    "    inputs=\"What is the greatest city in the world?\"\n",
    ")\n",
    "\n",
    "print(response)\n"
   ]
  }
 ],
 "metadata": {
  "kernelspec": {
   "display_name": "agent-venv",
   "language": "python",
   "name": "python3"
  },
  "language_info": {
   "codemirror_mode": {
    "name": "ipython",
    "version": 3
   },
   "file_extension": ".py",
   "mimetype": "text/x-python",
   "name": "python",
   "nbconvert_exporter": "python",
   "pygments_lexer": "ipython3",
   "version": "3.10.18"
  }
 },
 "nbformat": 4,
 "nbformat_minor": 5
}
